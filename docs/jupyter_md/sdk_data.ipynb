{
 "cells": [
  {
   "cell_type": "code",
   "execution_count": 1,
   "metadata": {},
   "outputs": [],
   "source": [
    "manifest = {\n",
    "    'memory': 256,\n",
    "    'disk_quota': 256,\n",
    "    'buildpack': 'python_buildpack',\n",
    "    \"requirements\":[\n",
    "        \"pandas\",\n",
    "        \"afs\"\n",
    "    ],\n",
    "    'type': 'API'\n",
    "}"
   ]
  },
  {
   "cell_type": "code",
   "execution_count": 2,
   "metadata": {},
   "outputs": [
    {
     "name": "stdout",
     "output_type": "stream",
     "text": [
      "{\"features\": false, \"param\": [], \"column\": [\"mycolumn\"]}\n"
     ]
    }
   ],
   "source": [
    "from afs import config_handler\n",
    "from pandas import DataFrame\n",
    "import json\n",
    "\n",
    "# Setting API parameters and column name\n",
    "cfg = config_handler()\n",
    "cfg.set_column('mycolumn')\n",
    "cfg.summary()"
   ]
  },
  {
   "cell_type": "code",
   "execution_count": null,
   "metadata": {},
   "outputs": [],
   "source": [
    "# POST /\n",
    "\n",
    "# Set flow architecture, REQUEST is the request including body and headers from client\n",
    "cfg.set_kernel_gateway(REQUEST)\n",
    "\n",
    "\n",
    "# Get data from request and transform to dataframe\n",
    "data = cfg.get_data()\n",
    "\n",
    "# The printing is the API response.\n",
    "print(data)"
   ]
  },
  {
   "cell_type": "code",
   "execution_count": null,
   "metadata": {},
   "outputs": [],
   "source": []
  }
 ],
 "metadata": {
  "kernelspec": {
   "display_name": "Python 3",
   "language": "python",
   "name": "python3"
  },
  "language_info": {
   "codemirror_mode": {
    "name": "ipython",
    "version": 3
   },
   "file_extension": ".py",
   "mimetype": "text/x-python",
   "name": "python",
   "nbconvert_exporter": "python",
   "pygments_lexer": "ipython3",
   "version": "3.6.1"
  }
 },
 "nbformat": 4,
 "nbformat_minor": 2
}
